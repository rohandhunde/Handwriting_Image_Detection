{
  "nbformat": 4,
  "nbformat_minor": 0,
  "metadata": {
    "colab": {
      "provenance": [],
      "gpuType": "T4",
      "authorship_tag": "ABX9TyOI/Kzoeg8WGXErNi1UP195",
      "include_colab_link": true
    },
    "kernelspec": {
      "name": "python3",
      "display_name": "Python 3"
    },
    "language_info": {
      "name": "python"
    },
    "accelerator": "GPU"
  },
  "cells": [
    {
      "cell_type": "markdown",
      "metadata": {
        "id": "view-in-github",
        "colab_type": "text"
      },
      "source": [
        "<a href=\"https://colab.research.google.com/github/rohandhunde/Handwriting_Image_Detection/blob/main/Handwritten_Image_Detection.ipynb\" target=\"_parent\"><img src=\"https://colab.research.google.com/assets/colab-badge.svg\" alt=\"Open In Colab\"/></a>"
      ]
    },
    {
      "cell_type": "markdown",
      "source": [
        "# Handwritten Image Degit Image Detection"
      ],
      "metadata": {
        "id": "5g5TNz8JK3l7"
      }
    },
    {
      "cell_type": "markdown",
      "source": [
        "Creating the model to Detect the hand written image through the nuarel network and will train the model\n",
        "This project focuses on image recognition using handwritten images, achieving an impressive accuracy rate of 99.22%. As a beginner's venture into deep learning, it demonstrates the simplicity of the project while showcasing the remarkable achievement in accurately identifying images. The project serves as a successful first step in the world of deep learning and sets a solid foundation for future endeavors."
      ],
      "metadata": {
        "id": "nL-Pdx1XFgox"
      }
    },
    {
      "cell_type": "code",
      "execution_count": 1,
      "metadata": {
        "id": "iZuNx_nMDsxP"
      },
      "outputs": [],
      "source": [
        "# import the important libraries\n",
        "import tensorflow as tf\n",
        "from tensorflow import keras\n",
        "from tensorflow.keras import models\n",
        "from tensorflow.keras import layers\n",
        "import matplotlib.pyplot as plt\n",
        "import numpy as  np\n",
        "import pylab as py\n",
        "from tensorflow.keras.layers import Dense,LSTM"
      ]
    },
    {
      "cell_type": "code",
      "source": [
        "# import the prebuild dataset from tensorflow\n",
        "# Split the data into train and test set\n",
        "(x_train,y_train),(x_test,y_test)=tf.keras.datasets.mnist.load_data()"
      ],
      "metadata": {
        "colab": {
          "base_uri": "https://localhost:8080/"
        },
        "id": "1su3STxBElyy",
        "outputId": "002e280f-fd48-4c08-c42e-08d1c62ff920"
      },
      "execution_count": 2,
      "outputs": [
        {
          "output_type": "stream",
          "name": "stdout",
          "text": [
            "Downloading data from https://storage.googleapis.com/tensorflow/tf-keras-datasets/mnist.npz\n",
            "11490434/11490434 [==============================] - 0s 0us/step\n"
          ]
        }
      ]
    },
    {
      "cell_type": "code",
      "source": [
        "# lets vissuallize the sample image from the X_train set\n",
        "plt.matshow(x_train[0])"
      ],
      "metadata": {
        "colab": {
          "base_uri": "https://localhost:8080/",
          "height": 454
        },
        "id": "KxJDqcIiEneD",
        "outputId": "0396ec95-b56d-4507-caf6-50f1c4edfcb3"
      },
      "execution_count": 3,
      "outputs": [
        {
          "output_type": "execute_result",
          "data": {
            "text/plain": [
              "<matplotlib.image.AxesImage at 0x79a5b35f3fd0>"
            ]
          },
          "metadata": {},
          "execution_count": 3
        },
        {
          "output_type": "display_data",
          "data": {
            "text/plain": [
              "<Figure size 480x480 with 1 Axes>"
            ],
            "image/png": "[encoded data removed]"
          },
          "metadata": {}
        }
      ]
    },
    {
      "cell_type": "code",
      "source": [
        "# Check the shape of the train dataset that we already splitted\n",
        "x_train[0].shape,y_train.shape[0]"
      ],
      "metadata": {
        "colab": {
          "base_uri": "https://localhost:8080/"
        },
        "id": "rD7IY3fnEtcG",
        "outputId": "f304e4ac-37df-4bb4-b643-5af9fd46bd0c"
      },
      "execution_count": 4,
      "outputs": [
        {
          "output_type": "execute_result",
          "data": {
            "text/plain": [
              "((28, 28), 60000)"
            ]
          },
          "metadata": {},
          "execution_count": 4
        }
      ]
    },
    {
      "cell_type": "code",
      "source": [
        "# Reshape the size of image of the X_train and X_test\n",
        "x_train=x_train/255.0\n",
        "x_test=x_test/255.0\n",
        "y_train[:5]"
      ],
      "metadata": {
        "colab": {
          "base_uri": "https://localhost:8080/"
        },
        "id": "MyGkKnErE61P",
        "outputId": "20fb46b3-1e89-4922-d1eb-dee7c7b9642b"
      },
      "execution_count": 5,
      "outputs": [
        {
          "output_type": "execute_result",
          "data": {
            "text/plain": [
              "array([5, 0, 4, 1, 9], dtype=uint8)"
            ]
          },
          "metadata": {},
          "execution_count": 5
        }
      ]
    },
    {
      "cell_type": "code",
      "source": [
        "# Create the Deep learning model\n",
        "model = models.Sequential()\n",
        "model.add(LSTM(128, activation='relu', return_sequences=True))\n",
        "model.add(LSTM(128,activation=\"relu\"))\n",
        "model.add(Dense(1000,activation=\"relu\"))\n",
        "model.add(Dense(10,activation=\"softmax\"))"
      ],
      "metadata": {
        "colab": {
          "base_uri": "https://localhost:8080/"
        },
        "id": "u7XhOoX1E8ox",
        "outputId": "c803bd84-da2d-4941-8a41-9dd6e72265f2"
      },
      "execution_count": 6,
      "outputs": [
        {
          "output_type": "stream",
          "name": "stderr",
          "text": [
            "WARNING:tensorflow:Layer lstm will not use cuDNN kernels since it doesn't meet the criteria. It will use a generic GPU kernel as fallback when running on GPU.\n",
            "WARNING:tensorflow:Layer lstm_1 will not use cuDNN kernels since it doesn't meet the criteria. It will use a generic GPU kernel as fallback when running on GPU.\n"
          ]
        }
      ]
    },
    {
      "cell_type": "code",
      "source": [
        "#Lets Compile the Model\n",
        "model.compile(optimizer=\"adam\",\n",
        "             loss=\"sparse_categorical_crossentropy\",\n",
        "             metrics=[\"accuracy\"])"
      ],
      "metadata": {
        "id": "7vcdxbDXFF-u"
      },
      "execution_count": 7,
      "outputs": []
    },
    {
      "cell_type": "code",
      "source": [
        "# Fit the model\n",
        "model.fit(x_train,y_train,epochs=10)"
      ],
      "metadata": {
        "colab": {
          "base_uri": "https://localhost:8080/"
        },
        "id": "97OgZLXtFHuO",
        "outputId": "1fc01a14-1ffd-4bdd-a72e-0b67d6069ec2"
      },
      "execution_count": 8,
      "outputs": [
        {
          "output_type": "stream",
          "name": "stdout",
          "text": [
            "Epoch 1/10\n",
            "1875/1875 [==============================] - 123s 59ms/step - loss: 0.4721 - accuracy: 0.8388\n",
            "Epoch 2/10\n",
            "1875/1875 [==============================] - 93s 49ms/step - loss: 0.1104 - accuracy: 0.9668\n",
            "Epoch 3/10\n",
            "1875/1875 [==============================] - 88s 47ms/step - loss: 0.0776 - accuracy: 0.9767\n",
            "Epoch 4/10\n",
            "1875/1875 [==============================] - 88s 47ms/step - loss: 0.0610 - accuracy: 0.9813\n",
            "Epoch 5/10\n",
            "1875/1875 [==============================] - 87s 47ms/step - loss: 2.6909 - accuracy: 0.9795\n",
            "Epoch 6/10\n",
            "1875/1875 [==============================] - 87s 46ms/step - loss: 0.0481 - accuracy: 0.9856\n",
            "Epoch 7/10\n",
            "1875/1875 [==============================] - 87s 46ms/step - loss: 0.0343 - accuracy: 0.9895\n",
            "Epoch 8/10\n",
            "1875/1875 [==============================] - 88s 47ms/step - loss: 0.0310 - accuracy: 0.9902\n",
            "Epoch 9/10\n",
            "1875/1875 [==============================] - 91s 49ms/step - loss: 0.0284 - accuracy: 0.9908\n",
            "Epoch 10/10\n",
            "1875/1875 [==============================] - 89s 48ms/step - loss: 0.0245 - accuracy: 0.9924\n"
          ]
        },
        {
          "output_type": "execute_result",
          "data": {
            "text/plain": [
              "<keras.callbacks.History at 0x79a5254c6b90>"
            ]
          },
          "metadata": {},
          "execution_count": 8
        }
      ]
    },
    {
      "cell_type": "code",
      "source": [
        "# lets predict the X_Test\n",
        "predictions=model.predict(x_test)\n",
        "np.argmax(predictions[5])"
      ],
      "metadata": {
        "colab": {
          "base_uri": "https://localhost:8080/"
        },
        "id": "W9zdd5tJFJzk",
        "outputId": "89185501-d572-45c4-c2a4-19b486d7f30f"
      },
      "execution_count": 9,
      "outputs": [
        {
          "output_type": "stream",
          "name": "stdout",
          "text": [
            "313/313 [==============================] - 4s 11ms/step\n"
          ]
        },
        {
          "output_type": "execute_result",
          "data": {
            "text/plain": [
              "1"
            ]
          },
          "metadata": {},
          "execution_count": 9
        }
      ]
    },
    {
      "cell_type": "markdown",
      "source": [
        "Model is Gives as the results 1 so lets check the what is the actual so plot the image"
      ],
      "metadata": {
        "id": "GXdh62R0JBiu"
      }
    },
    {
      "cell_type": "code",
      "source": [
        "# lets check the answer from the above ouput\n",
        "plt.matshow(x_test[5])"
      ],
      "metadata": {
        "colab": {
          "base_uri": "https://localhost:8080/",
          "height": 454
        },
        "id": "IK5T_-LeFP5o",
        "outputId": "ff9b2f68-a10b-401f-bdf6-bc35d62802dc"
      },
      "execution_count": 10,
      "outputs": [
        {
          "output_type": "execute_result",
          "data": {
            "text/plain": [
              "<matplotlib.image.AxesImage at 0x79a5001b28c0>"
            ]
          },
          "metadata": {},
          "execution_count": 10
        },
        {
          "output_type": "display_data",
          "data": {
            "text/plain": [
              "<Figure size 480x480 with 1 Axes>"
            ],
            "image/png": "[encoded data removed]"
          },
          "metadata": {}
        }
      ]
    },
    {
      "cell_type": "markdown",
      "source": [
        "yes the model is right\n",
        "\n",
        "\n"
      ],
      "metadata": {
        "id": "CI_N9IcIJZ1N"
      }
    },
    {
      "cell_type": "markdown",
      "source": [
        "Let's Check the another prediction\n"
      ],
      "metadata": {
        "id": "Y59mSytnKMoo"
      }
    },
    {
      "cell_type": "code",
      "source": [
        "# lets check the another examples\n",
        "np.argmax(predictions[1])"
      ],
      "metadata": {
        "colab": {
          "base_uri": "https://localhost:8080/"
        },
        "id": "q8q2MnevFRth",
        "outputId": "cfdfd3ba-f3b1-45e1-9ed5-9f00dd696883"
      },
      "execution_count": 11,
      "outputs": [
        {
          "output_type": "execute_result",
          "data": {
            "text/plain": [
              "2"
            ]
          },
          "metadata": {},
          "execution_count": 11
        }
      ]
    },
    {
      "cell_type": "markdown",
      "source": [
        "the model Gives us the output 2 so lets check vissuallize and check the output if its give us 2 means the model is predict predict well"
      ],
      "metadata": {
        "id": "N235iZyTKUc5"
      }
    },
    {
      "cell_type": "code",
      "source": [
        "# model predicts the 2 lets check what it will gives us\n",
        "plt.imshow(x_test[1])"
      ],
      "metadata": {
        "colab": {
          "base_uri": "https://localhost:8080/",
          "height": 447
        },
        "id": "-JILelSCFTnb",
        "outputId": "57311bb7-dac7-4e03-90ca-7e67cfbb1a37"
      },
      "execution_count": 12,
      "outputs": [
        {
          "output_type": "execute_result",
          "data": {
            "text/plain": [
              "<matplotlib.image.AxesImage at 0x79a50009f850>"
            ]
          },
          "metadata": {},
          "execution_count": 12
        },
        {
          "output_type": "display_data",
          "data": {
            "text/plain": [
              "<Figure size 640x480 with 1 Axes>"
            ],
            "image/png": "[encoded data removed]"
          },
          "metadata": {}
        }
      ]
    },
    {
      "cell_type": "markdown",
      "source": [
        "yes the model is right as talked before"
      ],
      "metadata": {
        "id": "qtul17esKu5f"
      }
    }
  ]
}